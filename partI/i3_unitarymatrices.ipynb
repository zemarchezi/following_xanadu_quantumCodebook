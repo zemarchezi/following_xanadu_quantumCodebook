{
 "cells": [
  {
   "cell_type": "code",
   "execution_count": 1,
   "metadata": {},
   "outputs": [],
   "source": [
    "import numpy as np\n",
    "import pennylane as qml"
   ]
  },
  {
   "cell_type": "markdown",
   "metadata": {},
   "source": [
    "Earlier, we learned that performing quantum operations involves multiplication by matrices that send valid, normalized quantum states to other normalized quantum states. We even saw an example,\n",
    "\n",
    "$$ U = \\frac{1}{\\sqrt{2}}\\left(\n",
    "\\begin{matrix}\n",
    "1 & 1 \\\\\n",
    "1 & -1 \n",
    "\\end{matrix}\n",
    "\\right)\n",
    "$$\n",
    " \n",
    "Surely, such matrices have some special properties in order to work properly on quantum states. These matrices are called unitary. Unitary matrices are complex-valued matrices with the property that $UU^{\\dagger} = U^{\\dagger}U = I_n$, where $I_n$ is the $n$-dimensional identity matrix. $U^{\\dagger} is the notation for the conjugate transpose of $U$ (i.e., take the transpose of the matrix, and replace each entry with its complex conjugate).\n",
    "\n",
    "In PennyLane, unitary operations specified by a matrix can be implemented in a quantum circuit using the QubitUnitary operation. QubitUnitary is a parametrized gate, and can be called like so:"
   ]
  },
  {
   "cell_type": "markdown",
   "metadata": {},
   "source": [
    "### Codercise I.3.1. \n",
    "Complete the quantum function below to create a circuit that applies U to the qubit and returns its state. (Compare this to the earlier function apply_u that you wrote - isn't it nice to not have to worry about the matrix arithmetic?)"
   ]
  },
  {
   "cell_type": "code",
   "execution_count": null,
   "metadata": {},
   "outputs": [],
   "source": [
    "dev = qml.device(\"default.qubit\", wires=1)\n",
    "\n",
    "U = np.array([[1, 1], [1, -1]]) / np.sqrt(2)\n",
    "\n",
    "@qml.qnode(dev)\n",
    "def apply_u():\n",
    "\n",
    "    ##################\n",
    "    # YOUR CODE HERE #\n",
    "    ##################\n",
    "\n",
    "    # USE QubitUnitary TO APPLY U TO THE QUBIT\n",
    "    \n",
    "\n",
    "\n",
    "    # Return the state\n",
    "    return qml.state()"
   ]
  },
  {
   "cell_type": "markdown",
   "metadata": {},
   "source": []
  }
 ],
 "metadata": {
  "interpreter": {
   "hash": "e7370f93d1d0cde622a1f8e1c04877d8463912d04d973331ad4851f04de6915a"
  },
  "kernelspec": {
   "display_name": "Python 3.10.2 64-bit",
   "language": "python",
   "name": "python3"
  },
  "language_info": {
   "codemirror_mode": {
    "name": "ipython",
    "version": 3
   },
   "file_extension": ".py",
   "mimetype": "text/x-python",
   "name": "python",
   "nbconvert_exporter": "python",
   "pygments_lexer": "ipython3",
   "version": "3.10.2"
  },
  "orig_nbformat": 4
 },
 "nbformat": 4,
 "nbformat_minor": 2
}
