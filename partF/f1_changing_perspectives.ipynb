{
 "cells": [
  {
   "cell_type": "markdown",
   "metadata": {},
   "source": [
    "# F.1 Changing Perspectives\n",
    "\n",
    "### Codercise F.1.1. \n",
    "Given a polynomial in its coefficient representation, convert it into a value representation using NumPy's DFT/FFT module."
   ]
  },
  {
   "cell_type": "code",
   "execution_count": 2,
   "metadata": {},
   "outputs": [
    {
     "name": "stdout",
     "output_type": "stream",
     "text": [
      "[10.+0.j  2.-2.j  2.+0.j  2.+2.j]\n"
     ]
    }
   ],
   "source": [
    "import numpy as np\n",
    "def coefficients_to_values(coefficients):\n",
    "    \"\"\"Returns the value representation of a polynomial\n",
    "    \n",
    "    Args:\n",
    "        coefficients (array[complex]): a 1-D array of complex \n",
    "            coefficients of a polynomial with \n",
    "            index i representing the i-th degree coefficient\n",
    "\n",
    "    Returns: \n",
    "        array[complex]: the value representation of the \n",
    "            polynomial \n",
    "    \"\"\"\n",
    "    ##################\n",
    "    # YOUR CODE HERE #\n",
    "    ################## \n",
    "    return np.fft.fft(coefficients)\n",
    "\n",
    "A = [4, 3, 2, 1]\n",
    "print(coefficients_to_values(A))"
   ]
  },
  {
   "cell_type": "markdown",
   "metadata": {},
   "source": [
    "### Codercise F.1.2. \n",
    "Given a polynomial in its value representation, use the NumPy's DFT/FFT module to convert from the value representation to the coefficient representation.\n",
    "\n"
   ]
  },
  {
   "cell_type": "code",
   "execution_count": 3,
   "metadata": {},
   "outputs": [
    {
     "name": "stdout",
     "output_type": "stream",
     "text": [
      "[4.+0.j 3.+0.j 2.+0.j 1.+0.j]\n"
     ]
    }
   ],
   "source": [
    "def values_to_coefficients(values):\n",
    "    \"\"\"Returns the coefficient representation of a polynomial\n",
    "    \n",
    "    Args:\n",
    "        values (array[complex]): a 1-D complex array with \n",
    "            the value representation of a polynomial \n",
    "\n",
    "    Returns: \n",
    "        array[complex]: a 1-D complex array of coefficients\n",
    "    \"\"\"\n",
    "    \n",
    "    ##################\n",
    "    # YOUR CODE HERE #\n",
    "    ################## \n",
    "    return np.fft.ifft(values)\n",
    "\n",
    "\n",
    "A = [10.+0.j,  2.-2.j,  2.+0.j,  2.+2.j]\n",
    "print(values_to_coefficients(A))"
   ]
  },
  {
   "cell_type": "markdown",
   "metadata": {},
   "source": [
    "### Codercise F.1.3. \n",
    "Implement a helper function nearest_power_of_2 that calculates a power of 2 that is greater than a given number."
   ]
  },
  {
   "cell_type": "code",
   "execution_count": null,
   "metadata": {},
   "outputs": [],
   "source": [
    "def nearest_power_of_2(x):\n",
    "    \"\"\"Given an integer, return the nearest power of 2. \n",
    "    \n",
    "    Args:\n",
    "        x (int): a positive integer\n",
    "\n",
    "    Returns: \n",
    "        int: the nearest power of 2 of x\n",
    "    \"\"\"\n",
    "    ##################\n",
    "    # YOUR CODE HERE #\n",
    "    ################## \n",
    "    return 1 if x == 0 else int(2**np.ceil(np.log2(x)))"
   ]
  },
  {
   "cell_type": "markdown",
   "metadata": {},
   "source": [
    "### Codercise F.1.4. \n",
    "Given two polynomials in their coefficient representation, write a function to multiply them both using the functions coefficients_to_values, nearest_power_of_2, and values_to_coefficients."
   ]
  },
  {
   "cell_type": "code",
   "execution_count": 27,
   "metadata": {},
   "outputs": [],
   "source": [
    "def coefficients_to_values(coefficients):\n",
    "    \"\"\"Returns the value representation of a polynomial\n",
    "    \n",
    "    Args:\n",
    "        coefficients (array[complex]): a 1-D array of complex \n",
    "            coefficients of a polynomial with \n",
    "            index i representing the i-th degree coefficient\n",
    "\n",
    "    Returns: \n",
    "        array[complex]: the value representation of the \n",
    "            polynomial \n",
    "    \"\"\"\n",
    "    ##################\n",
    "    # YOUR CODE HERE #\n",
    "    ################## \n",
    "    return np.fft.fft(coefficients)\n",
    "\n",
    "def nearest_power_of_2(x):\n",
    "    \"\"\"Given an integer, return the nearest power of 2. \n",
    "    \n",
    "    Args:\n",
    "        x (int): a positive integer\n",
    "\n",
    "    Returns: \n",
    "        int: the nearest power of 2 of x\n",
    "    \"\"\"\n",
    "    ##################\n",
    "    # YOUR CODE HERE #\n",
    "    ################## \n",
    "    return 1 if x == 0 else int(2**np.ceil(np.log2(x)))\n",
    "    \n",
    "def values_to_coefficients(values):\n",
    "    \"\"\"Returns the coefficient representation of a polynomial\n",
    "    \n",
    "    Args:\n",
    "        values (array[complex]): a 1-D complex array with \n",
    "            the value representation of a polynomial \n",
    "\n",
    "    Returns: \n",
    "        array[complex]: a 1-D complex array of coefficients\n",
    "    \"\"\"\n",
    "    \n",
    "    ##################\n",
    "    # YOUR CODE HERE #\n",
    "    ################## \n",
    "    return np.fft.ifft(values)\n",
    "def fft_multiplication(poly_a, poly_b):\n",
    "    \"\"\"Returns the result of multiplying two polynomials\n",
    "    \n",
    "    Args:\n",
    "        poly_a (array[complex]): 1-D array of coefficients \n",
    "        poly_b (array[complex]): 1-D array of coefficients \n",
    "\n",
    "    Returns: \n",
    "        array[complex]: complex coefficients of the product\n",
    "            of the polynomials\n",
    "    \"\"\"\n",
    "    ##################\n",
    "    # YOUR CODE HERE #\n",
    "    ################## \n",
    "\n",
    "    # Calculate the number of values required\n",
    "    n_va = np.max(poly_a)\n",
    "    n_vb =np.max(poly_b)\n",
    "    ratio = len(poly_a) / len(poly_b)\n",
    "    difs = len(poly_a) - len(poly_b)\n",
    "    print(ratio)\n",
    "    print(difs)\n",
    "    # n_va = poly_a[0]\n",
    "    # n_vb = poly_b[0]\n",
    "\n",
    "    # Figure out the nearest power of 2\n",
    "    neares_a = nearest_power_of_2(n_va+n_vb+1)\n",
    "    print(neares_a)\n",
    "    # Pad zeros to the polynomial\n",
    "    poly_a_pad = np.pad(poly_a,[0,neares_a], mode='constant')\n",
    "    print(poly_a_pad)\n",
    "    poly_b_pad = np.pad(poly_b, [0,neares_a+difs], mode='constant')\n",
    "    print(poly_b_pad)\n",
    "    # Convert the polynomials to value representation\n",
    "    values_a = coefficients_to_values(poly_a_pad)    \n",
    "    values_b = coefficients_to_values(poly_b_pad)\n",
    "\n",
    "    # Multipl\n",
    "    mult = values_a * values_b\n",
    "\n",
    "    # Convert back to coefficient representation\n",
    "    outs = values_to_coefficients(mult)\n",
    "    \n",
    "    return outs"
   ]
  },
  {
   "cell_type": "code",
   "execution_count": 29,
   "metadata": {},
   "outputs": [
    {
     "name": "stdout",
     "output_type": "stream",
     "text": [
      "1.25\n",
      "1\n",
      "16\n",
      "[5 4 3 2 1 0 0 0 0 0 0 0 0 0 0 0 0 0 0 0 0]\n",
      "[4 3 2 1 0 0 0 0 0 0 0 0 0 0 0 0 0 0 0 0 0]\n"
     ]
    },
    {
     "data": {
      "text/plain": [
       "array([ 2.00000000e+01-3.38353684e-16j,  3.10000000e+01+1.51125888e-15j,\n",
       "        3.40000000e+01+2.29522006e-15j,  3.00000000e+01+2.51664038e-15j,\n",
       "        2.00000000e+01+1.77519437e-15j,  1.00000000e+01+2.40321833e-15j,\n",
       "        4.00000000e+00+1.46477753e-15j,  1.00000000e+00+7.02329170e-16j,\n",
       "        1.01506105e-15-1.48468577e-15j, -4.18712684e-15+1.28092357e-15j,\n",
       "       -3.55271368e-15-4.17348735e-17j, -2.36847579e-15+1.03676756e-15j,\n",
       "        5.49824736e-16+5.19238355e-16j, -4.90612841e-15+9.00100332e-16j,\n",
       "       -1.01506105e-15+6.59120963e-16j,  1.69176842e-15-2.93231271e-15j,\n",
       "        6.76707367e-16-7.62185142e-16j,  1.69176842e-15-1.89105784e-15j,\n",
       "       -2.70682947e-15-3.69515132e-15j,  2.70682947e-15-2.98005373e-15j,\n",
       "       -4.73695157e-15-2.93925441e-15j])"
      ]
     },
     "execution_count": 29,
     "metadata": {},
     "output_type": "execute_result"
    }
   ],
   "source": [
    "A = [4, 3, 2, 1]\n",
    "B = [5, 4, 3, 2, 1]\n",
    "fft_multiplication(B, A)"
   ]
  },
  {
   "cell_type": "code",
   "execution_count": null,
   "metadata": {},
   "outputs": [],
   "source": []
  }
 ],
 "metadata": {
  "interpreter": {
   "hash": "e7370f93d1d0cde622a1f8e1c04877d8463912d04d973331ad4851f04de6915a"
  },
  "kernelspec": {
   "display_name": "Python 3.10.2 64-bit",
   "language": "python",
   "name": "python3"
  },
  "language_info": {
   "codemirror_mode": {
    "name": "ipython",
    "version": 3
   },
   "file_extension": ".py",
   "mimetype": "text/x-python",
   "name": "python",
   "nbconvert_exporter": "python",
   "pygments_lexer": "ipython3",
   "version": "3.10.2"
  },
  "orig_nbformat": 4
 },
 "nbformat": 4,
 "nbformat_minor": 2
}
